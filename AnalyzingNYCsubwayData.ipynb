{
 "cells": [
  {
   "cell_type": "markdown",
   "metadata": {},
   "source": [
    "# Subway Data Analysis\n",
    "\n",
    "## Introduction\n",
    "\n",
    "The New York System of bus and trains - Metro Transit Authority - provides its data for download through csv files. One of the available information is the data of ticket gates which contains weekly logs of cumulative entries and exits for each ticket gate for each metro station in some time interval.\n",
    "\n",
    "\n",
    "In this project, I will only use information about the ticket gates available at: http://web.mta.info/developers/turnstile.html.\n",
    "\n"
   ]
  },
  {
   "cell_type": "markdown",
   "metadata": {},
   "source": [
    "# About this project\n",
    "\n",
    "In this project, I will acquire data, clean it and throughout the process we will discove things about the data.\n",
    "\n",
    "The project's purpose is to explore how the NYC's subway use and the weather on a specific day relate. For that, apart from data from the subway, we will need data about the climate on the very day.\n",
    "\n",
    "The main points of this project are: \n",
    "- Data collection from internet;\n",
    "- Data Analysis.\n",
    "- Data manipulation and creation of simple graphics with Pandas."
   ]
  },
  {
   "cell_type": "markdown",
   "metadata": {},
   "source": [
    "## Section 1 - Data Collection\n",
    "\n",
    "This code will access the link: http://web.mta.info/developers/turnstile.html and download the files from June 2017. The archive will be saved as turnstile_100617.txt - where 10/06/17 is the date of the archive.\n"
   ]
  },
  {
   "cell_type": "code",
   "execution_count": 1,
   "metadata": {},
   "outputs": [],
   "source": [
    "# import urllib\n",
    "import urllib.request\n",
    "from bs4 import BeautifulSoup\n",
    "\n",
    "ur = \"http://web.mta.info/developers/turnstile.html\"\n",
    "ur_base = \"http://web.mta.info/developers/\" \n",
    "u = urllib.request.urlopen(ur)\n",
    "html = u.read()\n",
    "\n",
    "soup = BeautifulSoup(html, \"html.parser\")\n",
    "links = soup.find_all('a')\n",
    "for link in links:\n",
    "    if link.get('href') and '1706' in link.get('href'):\n",
    "        url_file = ur_base + link.get('href')\n",
    "        sitestring = str(link.get('href'))\n",
    "        begin = sitestring.find(\"1706\")\n",
    "        filename = \"turnstile_\" + sitestring[begin:begin+7] + \"txt\"\n",
    "        urllib.request.urlretrieve(url_file, filename)\n",
    "        \n",
    "        \n",
    "    "
   ]
  },
  {
   "cell_type": "markdown",
   "metadata": {},
   "source": [
    "This code is a function who takes the name list from archives you downloaded in the previous cell and combine them onto an unique archive.\n"
   ]
  },
  {
   "cell_type": "code",
   "execution_count": 2,
   "metadata": {},
   "outputs": [],
   "source": [
    "def create_master_turnstile_file(filenames, output_file):\n",
    "    with open(output_file, 'w') as master_file:\n",
    "        master_file.write('C/A,UNIT,SCP,STATION, LINENAME, DIVISION, DATEn,TIMEn,DESCn,ENTRIESn,EXITSn\\n')\n",
    "        for filename in filenames:\n",
    "            with open(filename) as filename:\n",
    "                for eachone in filename:\n",
    "                    if \"A,UNIT,SCP,STATION,LINENAME,DIVISION,DATE,TIME,DESC,ENTRIES,EXITS\" in eachone:\n",
    "                        eachone=\"\"\n",
    "                        eachone.rstrip()\n",
    "                        master_file.write(eachone)\n",
    "                    else:\n",
    "                        master_file.write(eachone)\n",
    "                    \n",
    " \n",
    "       \n",
    "filenames = [\"turnstile_170603.txt\", \"turnstile_170610.txt\", \"turnstile_170617.txt\", \"turnstile_170624.txt\"]  \n",
    "output_file = \"all_files.txt\"\n",
    "create_master_turnstile_file(filenames, output_file)   "
   ]
  },
  {
   "cell_type": "markdown",
   "metadata": {},
   "source": [
    "This code will read the master_file created previously and load it into a Pandas dataframe. The function will filter for that the dataframe gets only the lines whose the column \"DESCn\" is equal to \"Regular\"."
   ]
  },
  {
   "cell_type": "code",
   "execution_count": 3,
   "metadata": {},
   "outputs": [],
   "source": [
    "import pandas as pd\n",
    "import csv\n",
    "def filter_by_regular(filename):\n",
    "    result = pd.read_csv(filename)\n",
    "    result = pd.DataFrame(result)\n",
    "    result = result[result['DESCn'] == 'REGULAR']\n",
    "    return result\n",
    "\n",
    "filter_regular = filter_by_regular('all_files.txt')"
   ]
  },
  {
   "cell_type": "markdown",
   "metadata": {
    "collapsed": true
   },
   "source": [
    "The NYC subway has input and output cumulative data by line. This function will make a new column called ENTRIESn_hourly and take into this column the difference between ENTRIESn of the actual line and ENTRIESn of the previous line. "
   ]
  },
  {
   "cell_type": "code",
   "execution_count": 4,
   "metadata": {},
   "outputs": [],
   "source": [
    "import pandas\n",
    "\n",
    "def get_hourly_entries(df):\n",
    "    day_change = df['ENTRIESn'].shift(1)\n",
    "    df['ENTRIESn_hourly'] =  (df['ENTRIESn'] - day_change).fillna(1)\n",
    "    return df\n",
    "\n",
    "get_hourly = get_hourly_entries(filter_regular)"
   ]
  },
  {
   "cell_type": "markdown",
   "metadata": {},
   "source": [
    "This function will make a new column called EXITSn_hourly and take into this column the difference between EXITSn of the actual line and ENTRIESn of the previous line. If there is some NaN, it will fill the space with 0.\n",
    "\n"
   ]
  },
  {
   "cell_type": "code",
   "execution_count": 5,
   "metadata": {},
   "outputs": [],
   "source": [
    "import pandas\n",
    "\n",
    "def get_hourly_exits(df):\n",
    "    day_exchange = df['EXITSn'].shift(1)\n",
    "    df['EXITSn_hourly'] = (df['EXITSn'] - day_exchange).fillna(0)\n",
    "    return df\n",
    "get_exits = get_hourly_exits(get_hourly)"
   ]
  },
  {
   "cell_type": "markdown",
   "metadata": {},
   "source": [
    "This function will take a variable that represents the time in the format \"00:00:00\" (hour: minutes: seconds) and pull out the hour part of the time variable as an entire number."
   ]
  },
  {
   "cell_type": "code",
   "execution_count": 6,
   "metadata": {},
   "outputs": [
    {
     "data": {
      "text/plain": [
       "'6'"
      ]
     },
     "execution_count": 6,
     "metadata": {},
     "output_type": "execute_result"
    }
   ],
   "source": [
    "import pandas as pd\n",
    "def time_to_hour(time): \n",
    "        result = []\n",
    "        xc = time\n",
    "        list = xc.split(\":\")\n",
    "        result.append(list[0])\n",
    "        for i in result:\n",
    "            if i[0] == \"0\":\n",
    "                result[0] = i[1]\n",
    "        hour = result[0]\n",
    "        return hour\n",
    "time_to_hour('06:00:00')"
   ]
  },
  {
   "cell_type": "markdown",
   "metadata": {},
   "source": [
    "### Data Analysis \n",
    "\n",
    "To understand the link between the use of the Subway and the weather, we need to combine the archive's data already downloaded with the weather data.\n",
    "\n",
    "The weather data can be accessed by the link: https://s3.amazonaws.com/content.udacity-data.com/courses/ud359/turnstile_data_master_with_weather.csv\n",
    "```\n",
    "\n"
   ]
  },
  {
   "cell_type": "code",
   "execution_count": 8,
   "metadata": {},
   "outputs": [
    {
     "name": "stdout",
     "output_type": "stream",
     "text": [
      "        Unnamed: 0  UNIT      DATEn     TIMEn  Hour    DESCn  ENTRIESn_hourly  \\\n",
      "0                0  R001 2011-05-01  01:00:00     1  REGULAR              0.0   \n",
      "1                1  R001 2011-05-01  05:00:00     5  REGULAR            217.0   \n",
      "2                2  R001 2011-05-01  09:00:00     9  REGULAR            890.0   \n",
      "3                3  R001 2011-05-01  13:00:00    13  REGULAR           2451.0   \n",
      "4                4  R001 2011-05-01  17:00:00    17  REGULAR           4400.0   \n",
      "5                5  R001 2011-05-01  21:00:00    21  REGULAR           3372.0   \n",
      "6                6  R002 2011-05-01  01:00:00     1  REGULAR              0.0   \n",
      "7                7  R002 2011-05-01  05:00:00     5  REGULAR             42.0   \n",
      "8                8  R002 2011-05-01  09:00:00     9  REGULAR             50.0   \n",
      "9                9  R002 2011-05-01  13:00:00    13  REGULAR            316.0   \n",
      "10              10  R002 2011-05-01  17:00:00    17  REGULAR            633.0   \n",
      "11              11  R002 2011-05-01  21:00:00    21  REGULAR            639.0   \n",
      "12              12  R003 2011-05-01  00:00:00     0  REGULAR              0.0   \n",
      "13              13  R003 2011-05-01  04:00:00     4  REGULAR              0.0   \n",
      "14              14  R003 2011-05-01  12:00:00    12  REGULAR              0.0   \n",
      "15              15  R003 2011-05-01  16:00:00    16  REGULAR              0.0   \n",
      "16              16  R003 2011-05-01  20:00:00    20  REGULAR              0.0   \n",
      "17              17  R004 2011-05-01  00:00:00     0  REGULAR              0.0   \n",
      "18              18  R004 2011-05-01  04:00:00     4  REGULAR              0.0   \n",
      "19              19  R004 2011-05-01  08:00:00     8  REGULAR              0.0   \n",
      "20              20  R004 2011-05-01  12:00:00    12  REGULAR              0.0   \n",
      "21              21  R004 2011-05-01  16:00:00    16  REGULAR              0.0   \n",
      "22              22  R004 2011-05-01  20:00:00    20  REGULAR              0.0   \n",
      "23              23  R005 2011-05-01  00:00:00     0  REGULAR              0.0   \n",
      "24              24  R005 2011-05-01  04:00:00     4  REGULAR              0.0   \n",
      "25              25  R005 2011-05-01  12:00:00    12  REGULAR              0.0   \n",
      "26              26  R005 2011-05-01  16:00:00    16  REGULAR              1.0   \n",
      "27              27  R005 2011-05-01  20:00:00    20  REGULAR              0.0   \n",
      "28              28  R006 2011-05-01  00:00:00     0  REGULAR              0.0   \n",
      "29              29  R006 2011-05-01  04:00:00     4  REGULAR              0.0   \n",
      "...            ...   ...        ...       ...   ...      ...              ...   \n",
      "131921      131921  R552 2011-05-30  17:55:25    17  REGULAR              6.0   \n",
      "131922      131922  R552 2011-05-30  18:09:09    18  REGULAR            192.0   \n",
      "131923      131923  R552 2011-05-30  18:15:11    18  REGULAR            350.0   \n",
      "131924      131924  R552 2011-05-30  18:27:32    18  REGULAR             25.0   \n",
      "131925      131925  R552 2011-05-30  18:46:54    18  REGULAR              0.0   \n",
      "131926      131926  R552 2011-05-30  19:09:29    19  REGULAR             30.0   \n",
      "131927      131927  R552 2011-05-30  19:11:30    19  REGULAR            208.0   \n",
      "131928      131928  R552 2011-05-30  19:16:44    19  REGULAR            107.0   \n",
      "131929      131929  R552 2011-05-30  19:23:45    19  REGULAR            139.0   \n",
      "131930      131930  R552 2011-05-30  19:36:27    19  REGULAR            331.0   \n",
      "131931      131931  R552 2011-05-30  19:38:47    19  REGULAR            275.0   \n",
      "131932      131932  R552 2011-05-30  19:52:07    19  REGULAR            133.0   \n",
      "131933      131933  R552 2011-05-30  20:10:01    20  REGULAR              7.0   \n",
      "131934      131934  R552 2011-05-30  20:17:36    20  REGULAR            128.0   \n",
      "131935      131935  R552 2011-05-30  20:23:06    20  REGULAR            142.0   \n",
      "131936      131936  R552 2011-05-30  20:51:44    20  REGULAR              0.0   \n",
      "131937      131937  R552 2011-05-30  20:58:04    20  REGULAR            248.0   \n",
      "131938      131938  R552 2011-05-30  20:58:21    20  REGULAR             62.0   \n",
      "131939      131939  R552 2011-05-30  21:14:49    21  REGULAR            116.0   \n",
      "131940      131940  R552 2011-05-30  21:21:28    21  REGULAR             68.0   \n",
      "131941      131941  R552 2011-05-30  22:07:25    22  REGULAR              7.0   \n",
      "131942      131942  R552 2011-05-30  22:21:09    22  REGULAR             80.0   \n",
      "131943      131943  R552 2011-05-30  22:27:11    22  REGULAR            195.0   \n",
      "131944      131944  R552 2011-05-30  22:39:32    22  REGULAR             18.0   \n",
      "131945      131945  R552 2011-05-30  22:58:54    22  REGULAR              0.0   \n",
      "131946      131946  R552 2011-05-30  23:21:29    23  REGULAR             19.0   \n",
      "131947      131947  R552 2011-05-30  23:23:30    23  REGULAR            158.0   \n",
      "131948      131948  R552 2011-05-30  23:28:44    23  REGULAR             54.0   \n",
      "131949      131949  R552 2011-05-30  23:35:45    23  REGULAR             59.0   \n",
      "131950      131950  R552 2011-05-30  23:50:47    23  REGULAR            123.0   \n",
      "\n",
      "        EXITSn_hourly  maxpressurei  maxdewpti   ...     meandewpti  \\\n",
      "0                 0.0         30.31       42.0   ...           39.0   \n",
      "1               553.0         30.31       42.0   ...           39.0   \n",
      "2              1262.0         30.31       42.0   ...           39.0   \n",
      "3              3708.0         30.31       42.0   ...           39.0   \n",
      "4              2501.0         30.31       42.0   ...           39.0   \n",
      "5              2122.0         30.31       42.0   ...           39.0   \n",
      "6                 0.0         30.31       42.0   ...           39.0   \n",
      "7                66.0         30.31       42.0   ...           39.0   \n",
      "8               125.0         30.31       42.0   ...           39.0   \n",
      "9               716.0         30.31       42.0   ...           39.0   \n",
      "10              968.0         30.31       42.0   ...           39.0   \n",
      "11              566.0         30.31       42.0   ...           39.0   \n",
      "12                0.0         30.31       42.0   ...           39.0   \n",
      "13                0.0         30.31       42.0   ...           39.0   \n",
      "14                0.0         30.31       42.0   ...           39.0   \n",
      "15                0.0         30.31       42.0   ...           39.0   \n",
      "16                0.0         30.31       42.0   ...           39.0   \n",
      "17                0.0         30.31       42.0   ...           39.0   \n",
      "18                0.0         30.31       42.0   ...           39.0   \n",
      "19                0.0         30.31       42.0   ...           39.0   \n",
      "20                0.0         30.31       42.0   ...           39.0   \n",
      "21                0.0         30.31       42.0   ...           39.0   \n",
      "22                0.0         30.31       42.0   ...           39.0   \n",
      "23                0.0         30.31       42.0   ...           39.0   \n",
      "24                2.0         30.31       42.0   ...           39.0   \n",
      "25                2.0         30.31       42.0   ...           39.0   \n",
      "26                7.0         30.31       42.0   ...           39.0   \n",
      "27                0.0         30.31       42.0   ...           39.0   \n",
      "28                0.0         30.31       42.0   ...           39.0   \n",
      "29                1.0         30.31       42.0   ...           39.0   \n",
      "...               ...           ...        ...   ...            ...   \n",
      "131921            2.0         30.13       70.0   ...           68.0   \n",
      "131922           55.0         30.13       70.0   ...           68.0   \n",
      "131923           90.0         30.13       70.0   ...           68.0   \n",
      "131924            3.0         30.13       70.0   ...           68.0   \n",
      "131925            0.0         30.13       70.0   ...           68.0   \n",
      "131926            2.0         30.13       70.0   ...           68.0   \n",
      "131927          998.0         30.13       70.0   ...           68.0   \n",
      "131928          199.0         30.13       70.0   ...           68.0   \n",
      "131929           38.0         30.13       70.0   ...           68.0   \n",
      "131930          399.0         30.13       70.0   ...           68.0   \n",
      "131931           71.0         30.13       70.0   ...           68.0   \n",
      "131932           39.0         30.13       70.0   ...           68.0   \n",
      "131933          332.0         30.13       70.0   ...           68.0   \n",
      "131934          447.0         30.13       70.0   ...           68.0   \n",
      "131935          677.0         30.13       70.0   ...           68.0   \n",
      "131936            0.0         30.13       70.0   ...           68.0   \n",
      "131937          257.0         30.13       70.0   ...           68.0   \n",
      "131938           32.0         30.13       70.0   ...           68.0   \n",
      "131939          726.0         30.13       70.0   ...           68.0   \n",
      "131940          115.0         30.13       70.0   ...           68.0   \n",
      "131941            4.0         30.13       70.0   ...           68.0   \n",
      "131942           63.0         30.13       70.0   ...           68.0   \n",
      "131943          207.0         30.13       70.0   ...           68.0   \n",
      "131944            4.0         30.13       70.0   ...           68.0   \n",
      "131945            0.0         30.13       70.0   ...           68.0   \n",
      "131946           14.0         30.13       70.0   ...           68.0   \n",
      "131947         1022.0         30.13       70.0   ...           68.0   \n",
      "131948          275.0         30.13       70.0   ...           68.0   \n",
      "131949           46.0         30.13       70.0   ...           68.0   \n",
      "131950          108.0         30.13       70.0   ...           68.0   \n",
      "\n",
      "        meanpressurei  fog  rain  meanwindspdi  mintempi  meantempi  maxtempi  \\\n",
      "0               30.27  0.0   0.0           5.0      50.0       60.0      69.0   \n",
      "1               30.27  0.0   0.0           5.0      50.0       60.0      69.0   \n",
      "2               30.27  0.0   0.0           5.0      50.0       60.0      69.0   \n",
      "3               30.27  0.0   0.0           5.0      50.0       60.0      69.0   \n",
      "4               30.27  0.0   0.0           5.0      50.0       60.0      69.0   \n",
      "5               30.27  0.0   0.0           5.0      50.0       60.0      69.0   \n",
      "6               30.27  0.0   0.0           5.0      50.0       60.0      69.0   \n",
      "7               30.27  0.0   0.0           5.0      50.0       60.0      69.0   \n",
      "8               30.27  0.0   0.0           5.0      50.0       60.0      69.0   \n",
      "9               30.27  0.0   0.0           5.0      50.0       60.0      69.0   \n",
      "10              30.27  0.0   0.0           5.0      50.0       60.0      69.0   \n",
      "11              30.27  0.0   0.0           5.0      50.0       60.0      69.0   \n",
      "12              30.27  0.0   0.0           5.0      50.0       60.0      69.0   \n",
      "13              30.27  0.0   0.0           5.0      50.0       60.0      69.0   \n",
      "14              30.27  0.0   0.0           5.0      50.0       60.0      69.0   \n",
      "15              30.27  0.0   0.0           5.0      50.0       60.0      69.0   \n",
      "16              30.27  0.0   0.0           5.0      50.0       60.0      69.0   \n",
      "17              30.27  0.0   0.0           5.0      50.0       60.0      69.0   \n",
      "18              30.27  0.0   0.0           5.0      50.0       60.0      69.0   \n",
      "19              30.27  0.0   0.0           5.0      50.0       60.0      69.0   \n",
      "20              30.27  0.0   0.0           5.0      50.0       60.0      69.0   \n",
      "21              30.27  0.0   0.0           5.0      50.0       60.0      69.0   \n",
      "22              30.27  0.0   0.0           5.0      50.0       60.0      69.0   \n",
      "23              30.27  0.0   0.0           5.0      50.0       60.0      69.0   \n",
      "24              30.27  0.0   0.0           5.0      50.0       60.0      69.0   \n",
      "25              30.27  0.0   0.0           5.0      50.0       60.0      69.0   \n",
      "26              30.27  0.0   0.0           5.0      50.0       60.0      69.0   \n",
      "27              30.27  0.0   0.0           5.0      50.0       60.0      69.0   \n",
      "28              30.27  0.0   0.0           5.0      50.0       60.0      69.0   \n",
      "29              30.27  0.0   0.0           5.0      50.0       60.0      69.0   \n",
      "...               ...  ...   ...           ...       ...        ...       ...   \n",
      "131921          30.08  0.0   1.0           5.0      70.0       78.0      86.0   \n",
      "131922          30.08  0.0   1.0           5.0      70.0       78.0      86.0   \n",
      "131923          30.08  0.0   1.0           5.0      70.0       78.0      86.0   \n",
      "131924          30.08  0.0   1.0           5.0      70.0       78.0      86.0   \n",
      "131925          30.08  0.0   1.0           5.0      70.0       78.0      86.0   \n",
      "131926          30.08  0.0   1.0           5.0      70.0       78.0      86.0   \n",
      "131927          30.08  0.0   1.0           5.0      70.0       78.0      86.0   \n",
      "131928          30.08  0.0   1.0           5.0      70.0       78.0      86.0   \n",
      "131929          30.08  0.0   1.0           5.0      70.0       78.0      86.0   \n",
      "131930          30.08  0.0   1.0           5.0      70.0       78.0      86.0   \n",
      "131931          30.08  0.0   1.0           5.0      70.0       78.0      86.0   \n",
      "131932          30.08  0.0   1.0           5.0      70.0       78.0      86.0   \n",
      "131933          30.08  0.0   1.0           5.0      70.0       78.0      86.0   \n",
      "131934          30.08  0.0   1.0           5.0      70.0       78.0      86.0   \n",
      "131935          30.08  0.0   1.0           5.0      70.0       78.0      86.0   \n",
      "131936          30.08  0.0   1.0           5.0      70.0       78.0      86.0   \n",
      "131937          30.08  0.0   1.0           5.0      70.0       78.0      86.0   \n",
      "131938          30.08  0.0   1.0           5.0      70.0       78.0      86.0   \n",
      "131939          30.08  0.0   1.0           5.0      70.0       78.0      86.0   \n",
      "131940          30.08  0.0   1.0           5.0      70.0       78.0      86.0   \n",
      "131941          30.08  0.0   1.0           5.0      70.0       78.0      86.0   \n",
      "131942          30.08  0.0   1.0           5.0      70.0       78.0      86.0   \n",
      "131943          30.08  0.0   1.0           5.0      70.0       78.0      86.0   \n",
      "131944          30.08  0.0   1.0           5.0      70.0       78.0      86.0   \n",
      "131945          30.08  0.0   1.0           5.0      70.0       78.0      86.0   \n",
      "131946          30.08  0.0   1.0           5.0      70.0       78.0      86.0   \n",
      "131947          30.08  0.0   1.0           5.0      70.0       78.0      86.0   \n",
      "131948          30.08  0.0   1.0           5.0      70.0       78.0      86.0   \n",
      "131949          30.08  0.0   1.0           5.0      70.0       78.0      86.0   \n",
      "131950          30.08  0.0   1.0           5.0      70.0       78.0      86.0   \n",
      "\n",
      "        precipi  thunder  \n",
      "0          0.00      0.0  \n",
      "1          0.00      0.0  \n",
      "2          0.00      0.0  \n",
      "3          0.00      0.0  \n",
      "4          0.00      0.0  \n",
      "5          0.00      0.0  \n",
      "6          0.00      0.0  \n",
      "7          0.00      0.0  \n",
      "8          0.00      0.0  \n",
      "9          0.00      0.0  \n",
      "10         0.00      0.0  \n",
      "11         0.00      0.0  \n",
      "12         0.00      0.0  \n",
      "13         0.00      0.0  \n",
      "14         0.00      0.0  \n",
      "15         0.00      0.0  \n",
      "16         0.00      0.0  \n",
      "17         0.00      0.0  \n",
      "18         0.00      0.0  \n",
      "19         0.00      0.0  \n",
      "20         0.00      0.0  \n",
      "21         0.00      0.0  \n",
      "22         0.00      0.0  \n",
      "23         0.00      0.0  \n",
      "24         0.00      0.0  \n",
      "25         0.00      0.0  \n",
      "26         0.00      0.0  \n",
      "27         0.00      0.0  \n",
      "28         0.00      0.0  \n",
      "29         0.00      0.0  \n",
      "...         ...      ...  \n",
      "131921     0.29      0.0  \n",
      "131922     0.29      0.0  \n",
      "131923     0.29      0.0  \n",
      "131924     0.29      0.0  \n",
      "131925     0.29      0.0  \n",
      "131926     0.29      0.0  \n",
      "131927     0.29      0.0  \n",
      "131928     0.29      0.0  \n",
      "131929     0.29      0.0  \n",
      "131930     0.29      0.0  \n",
      "131931     0.29      0.0  \n",
      "131932     0.29      0.0  \n",
      "131933     0.29      0.0  \n",
      "131934     0.29      0.0  \n",
      "131935     0.29      0.0  \n",
      "131936     0.29      0.0  \n",
      "131937     0.29      0.0  \n",
      "131938     0.29      0.0  \n",
      "131939     0.29      0.0  \n",
      "131940     0.29      0.0  \n",
      "131941     0.29      0.0  \n",
      "131942     0.29      0.0  \n",
      "131943     0.29      0.0  \n",
      "131944     0.29      0.0  \n",
      "131945     0.29      0.0  \n",
      "131946     0.29      0.0  \n",
      "131947     0.29      0.0  \n",
      "131948     0.29      0.0  \n",
      "131949     0.29      0.0  \n",
      "131950     0.29      0.0  \n",
      "\n",
      "[131951 rows x 22 columns]\n"
     ]
    }
   ],
   "source": [
    "import pandas as pd\n",
    "\n",
    "filename = \"turnstile_data_master_with_weather.csv\"\n",
    "Dataframe = pd.read_csv(filename, sep=\",\")\n",
    "Dataframe = pd.DataFrame(Dataframe)\n",
    "\n",
    "Dataframe['DATEn'] = pd.to_datetime(Dataframe['DATEn'])\n",
    "print(Dataframe)\n",
    "\n",
    "\n"
   ]
  },
  {
   "cell_type": "markdown",
   "metadata": {},
   "source": [
    "This function will figure out the amount of rainy days."
   ]
  },
  {
   "cell_type": "code",
   "execution_count": 9,
   "metadata": {},
   "outputs": [
    {
     "data": {
      "text/plain": [
       "10"
      ]
     },
     "execution_count": 9,
     "metadata": {},
     "output_type": "execute_result"
    }
   ],
   "source": [
    "\n",
    "def num_rainy_days(df):\n",
    "    number_days = df.DATEn[(Dataframe['rain'] == 1)]\n",
    "    one_key = None\n",
    "    number  = 0\n",
    "    for each in number_days:\n",
    "        if each != one_key:\n",
    "            number +=1\n",
    "            one_key = each\n",
    "\n",
    "    \n",
    "    return number\n",
    "num_rainy_days(Dataframe)"
   ]
  },
  {
   "cell_type": "markdown",
   "metadata": {},
   "source": [
    "This function returns the nebulous days' maximum temperature."
   ]
  },
  {
   "cell_type": "code",
   "execution_count": 10,
   "metadata": {},
   "outputs": [
    {
     "data": {
      "text/plain": [
       "fog\n",
       "0.0    86.0\n",
       "1.0    81.0\n",
       "Name: maxtempi, dtype: float64"
      ]
     },
     "execution_count": 10,
     "metadata": {},
     "output_type": "execute_result"
    }
   ],
   "source": [
    "def max_temp_aggregate_by_fog(df):\n",
    "    g = df.groupby('fog')['maxtempi'].max()\n",
    "    return g\n",
    "    \n",
    "max_temp_aggregate_by_fog(Dataframe)"
   ]
  },
  {
   "cell_type": "markdown",
   "metadata": {},
   "source": [
    "This function figures out the meantempi's mean on Saturday and Sunday."
   ]
  },
  {
   "cell_type": "code",
   "execution_count": 11,
   "metadata": {},
   "outputs": [
    {
     "data": {
      "text/plain": [
       "65.10066685403307"
      ]
     },
     "execution_count": 11,
     "metadata": {},
     "output_type": "execute_result"
    }
   ],
   "source": [
    "import pandas as pd\n",
    "def avg_weekend_temperature(df):\n",
    "    df['DATEn'] = pd.to_datetime(Dataframe['DATEn'])\n",
    "    DaysWeek = df['DATEn'].dt.dayofweek\n",
    "    mean_temp_weekends = (df.meantempi[(DaysWeek == 5) | (DaysWeek == 6)]).mean()\n",
    "    \n",
    "    return mean_temp_weekends\n",
    "avg_weekend_temperature(Dataframe)"
   ]
  },
  {
   "cell_type": "markdown",
   "metadata": {},
   "source": [
    "This function figures out the mean of minimum temperatures on rainy days where the min temperature is higher than 55 degrees."
   ]
  },
  {
   "cell_type": "code",
   "execution_count": 12,
   "metadata": {},
   "outputs": [
    {
     "data": {
      "text/plain": [
       "61.238860398860396"
      ]
     },
     "execution_count": 12,
     "metadata": {},
     "output_type": "execute_result"
    }
   ],
   "source": [
    "def avg_min_temperature(df):\n",
    "    avg_min_temp_rainy = (df.mintempi[(Dataframe['rain'] == 1) & (df['mintempi'] > 55)]).mean()\n",
    "    return avg_min_temp_rainy\n",
    "avg_min_temperature(Dataframe)"
   ]
  },
  {
   "cell_type": "markdown",
   "metadata": {},
   "source": [
    "This code will plot two histograms on the same axis to show when it is raining vs when it is not raining.    "
   ]
  },
  {
   "cell_type": "code",
   "execution_count": 13,
   "metadata": {},
   "outputs": [
    {
     "data": {
      "text/plain": [
       "<module 'matplotlib.pyplot' from '/home/richson/anaconda3/lib/python3.6/site-packages/matplotlib/pyplot.py'>"
      ]
     },
     "execution_count": 13,
     "metadata": {},
     "output_type": "execute_result"
    },
    {
     "data": {
      "image/png": "[encoded data removed]",
      "text/plain": [
       "<matplotlib.figure.Figure at 0x7f21cbb50dd8>"
      ]
     },
     "metadata": {},
     "output_type": "display_data"
    }
   ],
   "source": [
    "import numpy as np\n",
    "import pandas\n",
    "import matplotlib.pyplot as plt\n",
    "%matplotlib inline\n",
    "def entries_histogram(turnstile_weather):\n",
    "    \n",
    "    plt.figure()\n",
    "    x = (turnstile_weather['ENTRIESn_hourly'][turnstile_weather['rain'] == 1]).hist(label=\"Com chuva\") # your code here to plot a historgram for hourly entries when it is raining\n",
    "    y = (turnstile_weather['ENTRIESn_hourly'][turnstile_weather['rain'] == 0]).hist(label=\"Sem chuva\", alpha = 0.5) # your code here to plot a histogram for hourly entries when it is not raining\n",
    "    plt.xlabel(\"Quantidade de Entradas.\", fontsize=13, color =\t (0.7, 0, 0.6))\n",
    "    plt.ylabel('Quantidade de vezes.', fontsize=13, color = (0.7, 0, 0.6))\n",
    "    plt.legend()\n",
    "    return plt\n",
    "entries_histogram(Dataframe)"
   ]
  },
  {
   "cell_type": "markdown",
   "metadata": {},
   "source": [
    "### *Exercicio 2.7\n",
    "\n",
    "Qual é a distribuição dos dados plotados? Are there differences between rainy days and non rainy dias?"
   ]
  },
  {
   "cell_type": "markdown",
   "metadata": {},
   "source": [
    "** Answer **: Skewed Right. Apparently, not."
   ]
  },
  {
   "cell_type": "markdown",
   "metadata": {},
   "source": [
    "This function returns the mean of entries from rainy days and non rainy days."
   ]
  },
  {
   "cell_type": "code",
   "execution_count": 14,
   "metadata": {},
   "outputs": [
    {
     "data": {
      "text/plain": [
       "(1105.4463767458733, 1090.278780151855)"
      ]
     },
     "execution_count": 14,
     "metadata": {},
     "output_type": "execute_result"
    }
   ],
   "source": [
    "import numpy as np\n",
    "\n",
    "import pandas\n",
    "\n",
    "def means(turnstile_weather):\n",
    "    \n",
    "    with_rain_mean = (turnstile_weather['ENTRIESn_hourly'][turnstile_weather['rain'] == 1]).mean()\n",
    "    without_rain_mean = (turnstile_weather['ENTRIESn_hourly'][turnstile_weather['rain'] == 0]).mean()\n",
    "    return with_rain_mean, without_rain_mean # leave this line for the grader\n",
    "\n",
    "means(Dataframe)"
   ]
  },
  {
   "cell_type": "markdown",
   "metadata": {},
   "source": [
    "What is the mean of entries with rain? What is the mean of entries without rain?\n"
   ]
  },
  {
   "cell_type": "markdown",
   "metadata": {},
   "source": [
    "** Answer **: 1 - 1105.4463767458733\n",
    "                2 - 1090.278780151855"
   ]
  },
  {
   "cell_type": "markdown",
   "metadata": {},
   "source": [
    "## Map Reduce\n",
    "\n",
    "This is a code used as mapper.\n",
    "\n",
    "For each entry line, the output will print a UNIT as a key and ENTRIESn_hourly as the value.\n",
    "\n"
   ]
  },
  {
   "cell_type": "code",
   "execution_count": 16,
   "metadata": {},
   "outputs": [],
   "source": [
    "import sys\n",
    "\n",
    "def mapper():\n",
    "    for line in sys.stdin:\n",
    "        thedata = line.strip().split(',')\n",
    "        if len(thedata) == 22:\n",
    "            Index,UNIT,DATEn,TIMEn,Hour,DESCn,ENTRIESn_hourly,EXITSn_hourly,maxpressurei,maxdewpti,mindewpti,minpressurei,meandewpti,meanpressurei,fog,rain,meanwindspdi,mintempi,meantempi,maxtempi,precipi,thunder = thedata\n",
    "            if type(UNIT) == str:\n",
    "                if UNIT != \"UNIT\":\n",
    "                    print(\"{0}\\t{1}\".format(UNIT, ENTRIESn_hourly))\n",
    "        \n",
    "sys.stdin = open('turnstile_data_master_with_weather.csv')\n",
    "sys.stdout = open('mapper_result.txt', 'w')\n",
    "mapper()"
   ]
  },
  {
   "cell_type": "markdown",
   "metadata": {},
   "source": [
    "This is a code used as reducer.\n",
    "\n",
    "It will use the earlier mapper's result, and print one line per unit - along with the total number of ENTRIESn_hourly. "
   ]
  },
  {
   "cell_type": "code",
   "execution_count": 17,
   "metadata": {},
   "outputs": [],
   "source": [
    "def reducer():\n",
    "    Entries_Total = 0\n",
    "    Old_Key = None\n",
    "    \n",
    "\n",
    "    for line in sys.stdin:\n",
    "        data = line.split('\\t')\n",
    "            \n",
    "        \n",
    "        if len(data) != 2:\n",
    "            continue\n",
    "        key, value = data\n",
    "        if Old_Key and Old_Key != key :\n",
    "            print(\"{0}\\t{1}\".format(Old_Key, Entries_Total))\n",
    "            Entries_Total = 0       \n",
    "        Entries_Total+= float(value)\n",
    "        Old_Key = key\n",
    "                          \n",
    "        \n",
    "        \n",
    "\n",
    "sys.stdin = open('mapper_result.txt')\n",
    "sys.stdout = open('reducer_result.txt', 'w')\n",
    "reducer()\n"
   ]
  }
 ],
 "metadata": {
  "celltoolbar": "Edit Metadata",
  "kernelspec": {
   "display_name": "Python 3",
   "language": "python",
   "name": "python3"
  },
  "language_info": {
   "codemirror_mode": {
    "name": "ipython",
    "version": 3
   },
   "file_extension": ".py",
   "mimetype": "text/x-python",
   "name": "python",
   "nbconvert_exporter": "python",
   "pygments_lexer": "ipython3",
   "version": "3.6.4"
  }
 },
 "nbformat": 4,
 "nbformat_minor": 2
}
